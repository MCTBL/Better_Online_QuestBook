{
 "cells": [
  {
   "cell_type": "code",
   "execution_count": 93,
   "metadata": {},
   "outputs": [],
   "source": [
    "import pandas as pd\n",
    "import os\n",
    "import json\n",
    "from pyecharts.charts import Graph\n",
    "from pyecharts import options as opts\n",
    "from pyecharts.globals import ThemeType\n",
    "import re\n",
    "import difflib\n",
    "from pyecharts.commons.utils import JsCode\n",
    "from bs4 import BeautifulSoup as bs"
   ]
  },
  {
   "cell_type": "code",
   "execution_count": 42,
   "metadata": {},
   "outputs": [],
   "source": [
    "quest_map = {}\n",
    "quest_line_map = {}\n",
    "quest_id_set = set()\n",
    "line_id_set = set()\n",
    "quest_zh_map = {}\n",
    "quest_zh_line_map = {}\n",
    "with open(\"lang/en_US.lang\", \"r\", encoding=\"utf-8\") as f:\n",
    "    for line in f.readlines():\n",
    "        if \"gtnh.quest\" in line and \"=\" in line:\n",
    "            one_line = line.split(\"=\")\n",
    "            quest_id = one_line[0].split(\".\")[1]\n",
    "            if \"name\" in one_line[0]:\n",
    "                quest_map[quest_id + \"name\"] = one_line[1]\n",
    "            elif \"desc\" in one_line[0]:\n",
    "                quest_map[quest_id + \"desc\"] = one_line[1]\n",
    "            quest_id_set.add(quest_id)\n",
    "        elif \"gtnh.line\" in line and \"=\" in line:\n",
    "            one_line = line.split(\"=\")\n",
    "            quest_line_id = one_line[0].split(\".\")[1]\n",
    "            if \"name\" in one_line[0]:\n",
    "                quest_line_map[quest_line_id + \"name\"] = one_line[1]\n",
    "            elif \"desc\" in one_line[0]:\n",
    "                quest_line_map[quest_line_id + \"desc\"] = one_line[1]\n",
    "            line_id_set.add(quest_line_id)\n",
    "\n",
    "with open(\"lang/zh_CN.lang\", \"r\", encoding=\"utf-8\") as f:\n",
    "    for line in f.readlines():\n",
    "        if \"gtnh.quest\" in line and \"=\" in line:\n",
    "            one_line = line.split(\"=\")\n",
    "            quest_id = one_line[0].split(\".\")[1]\n",
    "            if \"name\" in one_line[0]:\n",
    "                quest_zh_map[quest_id + \"name\"] = one_line[1]\n",
    "            elif \"desc\" in one_line[0]:\n",
    "                quest_zh_map[quest_id + \"desc\"] = one_line[1]\n",
    "            quest_id_set.add(quest_id)\n",
    "        elif \"gtnh.line\" in line and \"=\" in line:\n",
    "            one_line = line.split(\"=\")\n",
    "            quest_line_id = one_line[0].split(\".\")[1]\n",
    "            if \"name\" in one_line[0]:\n",
    "                quest_zh_line_map[quest_line_id + \"name\"] = one_line[1]\n",
    "            elif \"desc\" in one_line[0]:\n",
    "                quest_zh_line_map[quest_line_id + \"desc\"] = one_line[1]\n",
    "            line_id_set.add(quest_line_id)\n",
    "\n",
    "quest_name = pd.DataFrame(columns=[\"id\", \"name\", \"desc\", \"zh_name\", \"zh_desc\"])\n",
    "for i in quest_id_set:\n",
    "    name = quest_map[i + \"name\"].strip() if (i + \"name\") in quest_map else \"\"\n",
    "    desc = quest_map[i + \"desc\"].strip() if (i + \"desc\") in quest_map else \"\"\n",
    "    zh_name = quest_zh_map[i + \"name\"].strip() if (i +\n",
    "                                                   \"name\") in quest_zh_map else \"\"\n",
    "    zh_desc = quest_zh_map[i + \"desc\"].strip()if (i +\n",
    "                                                  \"desc\") in quest_zh_map else \"\"\n",
    "    quest_name.loc[len(quest_name)] = [i.replace(\n",
    "        \"quest\", \"\"), name, desc, zh_name, zh_desc]\n",
    "\n",
    "quest_line_name = pd.DataFrame(\n",
    "    columns=[\"id\", \"name\", \"desc\", \"zh_name\", \"zh_desc\"])\n",
    "for i in line_id_set:\n",
    "    name = quest_line_map[i + \"name\"].strip() if (i +\n",
    "                                                  \"name\") in quest_line_map else \"\"\n",
    "    desc = quest_line_map[i + \"desc\"].strip() if (i +\n",
    "                                                  \"desc\") in quest_line_map else \"\"\n",
    "    zh_name = quest_zh_line_map[i +\n",
    "                                \"name\"].strip() if (i + \"name\") in quest_zh_line_map else \"\"\n",
    "    zh_desc = quest_zh_line_map[i +\n",
    "                                \"desc\"].strip()if (i + \"desc\") in quest_zh_line_map else \"\"\n",
    "    quest_line_name.loc[len(quest_line_name)] = [i.replace(\n",
    "        \"line\", \"\"), name, desc, zh_name, zh_desc]"
   ]
  },
  {
   "cell_type": "code",
   "execution_count": 83,
   "metadata": {},
   "outputs": [],
   "source": [
    "df = pd.DataFrame(columns=[\"quest_file_name\", \"quest_id\",\n",
    "                  \"quest_name\", \"quest_desc\", \"quest_icon\", \"pre_quests\"])\n",
    "for quest_line in os.listdir(\"DefaultQuests/Quests/\"):\n",
    "    for quest in os.listdir(f\"DefaultQuests/Quests/{quest_line}/\"):\n",
    "        que = json.load(\n",
    "            open(f\"DefaultQuests/Quests/{quest_line}/{quest}\", \"r\", encoding=\"utf-8\"))\n",
    "        \n",
    "        quest_id = que[\"questIDLow:4\"]\n",
    "        quest_name = que[\"properties:10\"][\"betterquesting:10\"][\"name:8\"]\n",
    "        quest_desc = que[\"properties:10\"][\"betterquesting:10\"][\"desc:8\"]\n",
    "        icon_name = \"quests_icons/QuestIcon/\" + str(quest_id) + \".png\"\n",
    "        \n",
    "        pre_quests = []\n",
    "        for i in que[\"preRequisites:9\"]:\n",
    "            pre_quests.append(que[\"preRequisites:9\"][i][\"questIDLow:4\"])\n",
    "\n",
    "        if f\"quest{quest_id}name\" in quest_zh_map:\n",
    "            quest_name = quest_zh_map[f\"quest{quest_id}name\"]\n",
    "        if f\"quest{quest_id}desc\" in quest_zh_map:\n",
    "            quest_desc = quest_zh_map[f\"quest{quest_id}desc\"]\n",
    "\n",
    "        quest_name = quest_name.strip()\n",
    "        quest_desc = quest_desc.strip()\n",
    "\n",
    "        df.loc[len(df)] = [quest, quest_id, quest_name,quest_desc, icon_name, pre_quests]\n",
    "\n",
    "\n",
    "repeats = list(set(df[df[\"quest_name\"].duplicated()][\"quest_name\"]))\n",
    "for word in repeats:\n",
    "    counter = 1\n",
    "    for i in df[df[\"quest_name\"] == word].sort_values(\"quest_id\").index:\n",
    "        df.loc[i, \"quest_name\"] = df.loc[i, \"quest_name\"] + str(counter)\n",
    "        counter += 1"
   ]
  },
  {
   "cell_type": "code",
   "execution_count": 119,
   "metadata": {},
   "outputs": [],
   "source": [
    "for questline in os.listdir(\"DefaultQuests/QuestLines\"):\n",
    "    nodes = []\n",
    "    links = []\n",
    "    for quest in os.listdir(f\"DefaultQuests/QuestLines/{questline}\"):\n",
    "        multi = 1\n",
    "        if quest == \"QuestLine.json\":\n",
    "            continue\n",
    "        elif \"Tier5IV\" in quest:\n",
    "            multi = 0.5\n",
    "        que = json.load(\n",
    "            open(f\"DefaultQuests/QuestLines/{questline}/{quest}\", \"r\", encoding=\"utf-8\"))\n",
    "        line = df[df[\"quest_id\"] == que[\"questIDLow:4\"]]\n",
    "\n",
    "        desc = line[\"quest_desc\"].values[0]\n",
    "\n",
    "        temp_list = []\n",
    "        for i in range(0, len(desc), 50):\n",
    "            temp_list.append(desc[i : i + 50])\n",
    "\n",
    "        path = f\"image://version/272/{line[\"quest_icon\"].values[0]}\"\n",
    "\n",
    "        name = line[\"quest_name\"].values[0]\n",
    "\n",
    "        new_node = {\"name\": name,\n",
    "                    \"symbolSize\": int(que[\"sizeX:3\"]) * 1.3 * multi,\n",
    "                        \"symbol\": path,\n",
    "                        \"x\": (que[\"x:3\"] + int(que[\"sizeX:3\"]) / 2),\n",
    "                        \"y\": (que[\"y:3\"] + int(que[\"sizeX:3\"]) / 2),\n",
    "                        \"tooltip\": name\n",
    "                        }\n",
    "\n",
    "        nodes.append(new_node)\n",
    "        pre_quests = line[\"pre_quests\"].values[0]\n",
    "        for quest_id in pre_quests:\n",
    "            pre_que = df[df[\"quest_id\"] == quest_id]\n",
    "\n",
    "            pre_name = pre_que[\"quest_name\"].values[0]\n",
    "\n",
    "            links.append({\"source\": pre_name,\n",
    "                          \"target\": name})\n",
    "\n",
    "    g = (\n",
    "        Graph(init_opts=opts.InitOpts(width=\"100%\",\n",
    "              height=\"900%\", bg_color=\"#f5f0d3\", chart_id=\"this_chart\"))\n",
    "        .add(\"\", nodes, links, is_draggable=False, edge_symbol=['circle', 'arrow'], repulsion=0, label_opts=opts.LabelOpts(position=\"up\", is_show=False), gravity=0, layout=\"none\", edge_symbol_size=10)\n",
    "        .render(f\"html/{questline.split(\"-\")[0]}.html\")\n",
    "    )\n",
    "\n",
    "for html in os.listdir(\"html\"):\n",
    "    if not \"html\" in html:\n",
    "        continue\n",
    "    with open(f\"html/{html}\", encoding=\"utf-8\") as page:\n",
    "        a = bs(page)\n",
    "    os.remove(f\"html/{html}\")\n",
    "    a = a.find_all(\"script\")[1]\n",
    "    with open(f\"js/{html.replace(\".html\", \".js\")}\", \"w\", encoding=\"utf-8\") as js:\n",
    "        js.write(a.text)"
   ]
  },
  {
   "cell_type": "code",
   "execution_count": 118,
   "metadata": {},
   "outputs": [],
   "source": []
  },
  {
   "cell_type": "code",
   "execution_count": null,
   "metadata": {},
   "outputs": [],
   "source": []
  },
  {
   "cell_type": "code",
   "execution_count": null,
   "metadata": {},
   "outputs": [],
   "source": []
  },
  {
   "cell_type": "code",
   "execution_count": 61,
   "metadata": {},
   "outputs": [],
   "source": [
    "quest_line_order = []\n",
    "for line in open(\"DefaultQuests/QuestLinesOrder.txt\").readlines():\n",
    "    quest_line_order.append(line.split(\": \")[1].strip())"
   ]
  },
  {
   "cell_type": "code",
   "execution_count": 6,
   "metadata": {},
   "outputs": [
    {
     "data": {
      "text/plain": [
       "6626"
      ]
     },
     "execution_count": 6,
     "metadata": {},
     "output_type": "execute_result"
    }
   ],
   "source": [
    "counter = 0\n",
    "with open(\"lang/en_US.lang\", \"r\", encoding=\"utf-8\") as f:\n",
    "    for line in f.readlines():\n",
    "        if \"=\" in line:\n",
    "            counter += 1\n",
    "counter"
   ]
  },
  {
   "cell_type": "code",
   "execution_count": 7,
   "metadata": {},
   "outputs": [
    {
     "data": {
      "text/plain": [
       "6684"
      ]
     },
     "execution_count": 7,
     "metadata": {},
     "output_type": "execute_result"
    }
   ],
   "source": [
    "counter = 0\n",
    "with open(\"lang/zh_CN.lang\", \"r\", encoding=\"utf-8\") as f:\n",
    "    for line in f.readlines():\n",
    "        if \"=\" in line:\n",
    "            counter += 1\n",
    "counter"
   ]
  }
 ],
 "metadata": {
  "kernelspec": {
   "display_name": "Python 3",
   "language": "python",
   "name": "python3"
  },
  "language_info": {
   "codemirror_mode": {
    "name": "ipython",
    "version": 3
   },
   "file_extension": ".py",
   "mimetype": "text/x-python",
   "name": "python",
   "nbconvert_exporter": "python",
   "pygments_lexer": "ipython3",
   "version": "3.13.0"
  }
 },
 "nbformat": 4,
 "nbformat_minor": 2
}
