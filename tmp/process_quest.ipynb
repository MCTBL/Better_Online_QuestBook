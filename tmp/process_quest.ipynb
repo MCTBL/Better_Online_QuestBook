{
 "cells": [
  {
   "cell_type": "code",
   "execution_count": 1,
   "metadata": {},
   "outputs": [],
   "source": [
    "import pandas as pd\n",
    "import os\n",
    "import json\n",
    "from pyecharts.charts import Graph\n",
    "from pyecharts import options as opts\n",
    "from pyecharts.globals import ThemeType\n",
    "import re\n",
    "import difflib\n",
    "from pyecharts.commons.utils import JsCode\n",
    "from bs4 import BeautifulSoup as bs\n",
    "import base64\n",
    "from ctypes import c_uint\n",
    "import binascii"
   ]
  },
  {
   "cell_type": "code",
   "execution_count": 49,
   "metadata": {},
   "outputs": [],
   "source": [
    "quest_map = {}\n",
    "quest_line_map = {}\n",
    "quest_id_set = set()\n",
    "line_id_set = set()\n",
    "quest_zh_map = {}\n",
    "quest_zh_line_map = {}\n",
    "# with open(\"lang/en_US.lang\", \"r\", encoding=\"utf-8\") as f:\n",
    "#     for line in f.readlines():\n",
    "#         if \"gtnh.quest\" in line and \"=\" in line:\n",
    "#             one_line = line.split(\"=\")\n",
    "#             quest_id = one_line[0].split(\".\")[1]\n",
    "#             if \"name\" in one_line[0]:\n",
    "#                 quest_map[quest_id + \"name\"] = one_line[1]\n",
    "#             elif \"desc\" in one_line[0]:\n",
    "#                 quest_map[quest_id + \"desc\"] = one_line[1]\n",
    "#             quest_id_set.add(quest_id)\n",
    "#         elif \"gtnh.line\" in line and \"=\" in line:\n",
    "#             one_line = line.split(\"=\")\n",
    "#             quest_line_id = one_line[0].split(\".\")[1]\n",
    "#             if \"name\" in one_line[0]:\n",
    "#                 quest_line_map[quest_line_id + \"name\"] = one_line[1]\n",
    "#             elif \"desc\" in one_line[0]:\n",
    "#                 quest_line_map[quest_line_id + \"desc\"] = one_line[1]\n",
    "#             line_id_set.add(quest_line_id)\n",
    "\n",
    "with open(\"lang/zh_CN.lang\", \"r\", encoding=\"utf-8\") as f:\n",
    "    for line in f.readlines():\n",
    "        if \"betterquesting.questline\" in line and \"=\" in line:\n",
    "            one_line = line.split(\"=\")\n",
    "            quest_line_id = one_line[0].split(\".\")[-2]\n",
    "            if \"name\" in one_line[0]:\n",
    "                quest_zh_line_map[quest_line_id + \"name\"] = one_line[1]\n",
    "            elif \"desc\" in one_line[0]:\n",
    "                quest_zh_line_map[quest_line_id + \"desc\"] = one_line[1]\n",
    "            line_id_set.add(quest_line_id)\n",
    "        elif \"betterquesting.quest\" in line and \"=\" in line:\n",
    "            one_line = line.split(\"=\", -1)\n",
    "            quest_id = one_line[0].split(\".\")[-2]\n",
    "            if \"name\" in one_line[0]:\n",
    "                quest_zh_map[quest_id + \"name\"] = one_line[1]\n",
    "            elif \"desc\" in one_line[0]:\n",
    "                quest_zh_map[quest_id + \"desc\"] = one_line[1]\n",
    "            quest_id_set.add(quest_id)\n",
    "\n",
    "quest_name_df = pd.DataFrame(columns=[\"id\", \"name\", \"desc\", \"zh_name\", \"zh_desc\"])\n",
    "for i in quest_id_set:\n",
    "    name = quest_map[i + \"name\"].strip() if (i + \"name\") in quest_map else \"\"\n",
    "    desc = quest_map[i + \"desc\"].strip() if (i + \"desc\") in quest_map else \"\"\n",
    "    zh_name = quest_zh_map[i + \"name\"].strip() if (i +\n",
    "                                                   \"name\") in quest_zh_map else \"\"\n",
    "    zh_desc = quest_zh_map[i + \"desc\"].strip()if (i +\n",
    "                                                  \"desc\") in quest_zh_map else \"\"\n",
    "    quest_name_df.loc[len(quest_name_df)] = [i.replace(\n",
    "        \"quest\", \"\"), name, desc, zh_name, zh_desc]\n",
    "\n",
    "quest_line_name = pd.DataFrame(\n",
    "    columns=[\"id\", \"name\", \"desc\", \"zh_name\", \"zh_desc\"])\n",
    "for i in line_id_set:\n",
    "    name = quest_line_map[i + \"name\"].strip() if (i +\n",
    "                                                  \"name\") in quest_line_map else \"\"\n",
    "    desc = quest_line_map[i + \"desc\"].strip() if (i +\n",
    "                                                  \"desc\") in quest_line_map else \"\"\n",
    "    zh_name = quest_zh_line_map[i +\n",
    "                                \"name\"].strip() if (i + \"name\") in quest_zh_line_map else \"\"\n",
    "    zh_desc = quest_zh_line_map[i +\n",
    "                                \"desc\"].strip()if (i + \"desc\") in quest_zh_line_map else \"\"\n",
    "    quest_line_name.loc[len(quest_line_name)] = [i.replace(\n",
    "        \"line\", \"\"), name, desc, zh_name, zh_desc]"
   ]
  },
  {
   "cell_type": "code",
   "execution_count": 42,
   "metadata": {},
   "outputs": [
    {
     "data": {
      "text/html": [
       "<div>\n",
       "<style scoped>\n",
       "    .dataframe tbody tr th:only-of-type {\n",
       "        vertical-align: middle;\n",
       "    }\n",
       "\n",
       "    .dataframe tbody tr th {\n",
       "        vertical-align: top;\n",
       "    }\n",
       "\n",
       "    .dataframe thead th {\n",
       "        text-align: right;\n",
       "    }\n",
       "</style>\n",
       "<table border=\"1\" class=\"dataframe\">\n",
       "  <thead>\n",
       "    <tr style=\"text-align: right;\">\n",
       "      <th></th>\n",
       "      <th>id</th>\n",
       "      <th>name</th>\n",
       "      <th>desc</th>\n",
       "      <th>zh_name</th>\n",
       "      <th>zh_desc</th>\n",
       "    </tr>\n",
       "  </thead>\n",
       "  <tbody>\n",
       "    <tr>\n",
       "      <th>0</th>\n",
       "      <td>AAAAAAAAAAAAAAAAAAAHqg</td>\n",
       "      <td></td>\n",
       "      <td></td>\n",
       "      <td>瓷砖图案</td>\n",
       "      <td>现在你有了瓷砖,你可以制作一些简单的图案.在工作台中排成2x2,红/黄或黄/红,可制作出方格...</td>\n",
       "    </tr>\n",
       "    <tr>\n",
       "      <th>1</th>\n",
       "      <td>AAAAAAAAAAAAAAAAAAAJuw</td>\n",
       "      <td></td>\n",
       "      <td></td>\n",
       "      <td>4096K-ME流体存储组件</td>\n",
       "      <td>又来一个.</td>\n",
       "    </tr>\n",
       "    <tr>\n",
       "      <th>2</th>\n",
       "      <td>AAAAAAAAAAAAAAAAAAACmg</td>\n",
       "      <td></td>\n",
       "      <td></td>\n",
       "      <td>让我们荡起双桨（Row, Row, Row Your Boat）</td>\n",
       "      <td>你住在水边却没有船？兄弟,振作起来.%n%n你需要木板、台阶跟刀来制作一艘. (这个任务编号...</td>\n",
       "    </tr>\n",
       "    <tr>\n",
       "      <th>3</th>\n",
       "      <td>AAAAAAAAAAAAAAAAAAAH-w</td>\n",
       "      <td></td>\n",
       "      <td></td>\n",
       "      <td>§6§l电解硼砂</td>\n",
       "      <td>有了MV电解机,你就能从硼砂中电解出硼.这种元素稍后可用于制作硼玻璃和玻璃纤维,但现在你可以...</td>\n",
       "    </tr>\n",
       "    <tr>\n",
       "      <th>4</th>\n",
       "      <td>AAAAAAAAAAAAAAAAAAAELA</td>\n",
       "      <td></td>\n",
       "      <td></td>\n",
       "      <td>你准备好了吗？</td>\n",
       "      <td>你准备好去月球了吗？多准备一些东西可以帮助你活下去,防止你死在月球上.%n%n如果你在月球上...</td>\n",
       "    </tr>\n",
       "    <tr>\n",
       "      <th>...</th>\n",
       "      <td>...</td>\n",
       "      <td>...</td>\n",
       "      <td>...</td>\n",
       "      <td>...</td>\n",
       "      <td>...</td>\n",
       "    </tr>\n",
       "    <tr>\n",
       "      <th>3532</th>\n",
       "      <td>AAAAAAAAAAAAAAAAAAAFlw</td>\n",
       "      <td></td>\n",
       "      <td></td>\n",
       "      <td>助推器</td>\n",
       "      <td>地球到火星的距离远远大于到月球,因此火箭需要助推器才能到达.</td>\n",
       "    </tr>\n",
       "    <tr>\n",
       "      <th>3533</th>\n",
       "      <td>AAAAAAAAAAAAAAAAAAAHyQ</td>\n",
       "      <td></td>\n",
       "      <td></td>\n",
       "      <td>法杖强化: 魔子缓存</td>\n",
       "      <td>将这个强化应用到法杖中会使法杖额外增加25％存储.但同时增加5％的不稳定性.</td>\n",
       "    </tr>\n",
       "    <tr>\n",
       "      <th>3534</th>\n",
       "      <td>AAAAAAAAAAAAAAAAAAAEjQ</td>\n",
       "      <td></td>\n",
       "      <td></td>\n",
       "      <td>橡胶条</td>\n",
       "      <td>你可以使用硬币购买一些橡胶条.</td>\n",
       "    </tr>\n",
       "    <tr>\n",
       "      <th>3535</th>\n",
       "      <td>AAAAAAAAAAAAAAAAAAAB2Q</td>\n",
       "      <td></td>\n",
       "      <td></td>\n",
       "      <td>§2§l做一把好剑</td>\n",
       "      <td>现在是时候做一把匠魂剑了!首先你需要制作剑刃、某种护手以及手柄.在匠魂冶炼炉里面熔化一些青铜...</td>\n",
       "    </tr>\n",
       "    <tr>\n",
       "      <th>3536</th>\n",
       "      <td>AAAAAAAAAAAAAAAAAAAECg</td>\n",
       "      <td></td>\n",
       "      <td></td>\n",
       "      <td>末影之眼</td>\n",
       "      <td>你可以用硬币购买一些末影之眼.</td>\n",
       "    </tr>\n",
       "  </tbody>\n",
       "</table>\n",
       "<p>3537 rows × 5 columns</p>\n",
       "</div>"
      ],
      "text/plain": [
       "                          id name desc                           zh_name  \\\n",
       "0     AAAAAAAAAAAAAAAAAAAHqg                                        瓷砖图案   \n",
       "1     AAAAAAAAAAAAAAAAAAAJuw                              4096K-ME流体存储组件   \n",
       "2     AAAAAAAAAAAAAAAAAAACmg            让我们荡起双桨（Row, Row, Row Your Boat）   \n",
       "3     AAAAAAAAAAAAAAAAAAAH-w                                    §6§l电解硼砂   \n",
       "4     AAAAAAAAAAAAAAAAAAAELA                                     你准备好了吗？   \n",
       "...                      ...  ...  ...                               ...   \n",
       "3532  AAAAAAAAAAAAAAAAAAAFlw                                         助推器   \n",
       "3533  AAAAAAAAAAAAAAAAAAAHyQ                                  法杖强化: 魔子缓存   \n",
       "3534  AAAAAAAAAAAAAAAAAAAEjQ                                         橡胶条   \n",
       "3535  AAAAAAAAAAAAAAAAAAAB2Q                                   §2§l做一把好剑   \n",
       "3536  AAAAAAAAAAAAAAAAAAAECg                                        末影之眼   \n",
       "\n",
       "                                                zh_desc  \n",
       "0     现在你有了瓷砖,你可以制作一些简单的图案.在工作台中排成2x2,红/黄或黄/红,可制作出方格...  \n",
       "1                                                 又来一个.  \n",
       "2     你住在水边却没有船？兄弟,振作起来.%n%n你需要木板、台阶跟刀来制作一艘. (这个任务编号...  \n",
       "3     有了MV电解机,你就能从硼砂中电解出硼.这种元素稍后可用于制作硼玻璃和玻璃纤维,但现在你可以...  \n",
       "4     你准备好去月球了吗？多准备一些东西可以帮助你活下去,防止你死在月球上.%n%n如果你在月球上...  \n",
       "...                                                 ...  \n",
       "3532                     地球到火星的距离远远大于到月球,因此火箭需要助推器才能到达.  \n",
       "3533             将这个强化应用到法杖中会使法杖额外增加25％存储.但同时增加5％的不稳定性.  \n",
       "3534                                    你可以使用硬币购买一些橡胶条.  \n",
       "3535  现在是时候做一把匠魂剑了!首先你需要制作剑刃、某种护手以及手柄.在匠魂冶炼炉里面熔化一些青铜...  \n",
       "3536                                    你可以用硬币购买一些末影之眼.  \n",
       "\n",
       "[3537 rows x 5 columns]"
      ]
     },
     "execution_count": 42,
     "metadata": {},
     "output_type": "execute_result"
    }
   ],
   "source": [
    "quest_name_df"
   ]
  },
  {
   "cell_type": "code",
   "execution_count": 56,
   "metadata": {},
   "outputs": [],
   "source": [
    "df = pd.DataFrame(columns=[\"quest_file_name\", \"quest_id\",\n",
    "                  \"quest_name\", \"quest_desc\", \"quest_icon\", \"pre_quests\"])\n",
    "for quest_line in os.listdir(\"DefaultQuests/Quests/\"):\n",
    "    for quest in os.listdir(f\"DefaultQuests/Quests/{quest_line}/\"):\n",
    "        que = json.load(\n",
    "            open(f\"DefaultQuests/Quests/{quest_line}/{quest}\", \"r\", encoding=\"utf-8\"))\n",
    "        \n",
    "        quest_high_id = que[\"questIDHigh:4\"] if \"questIDHigh:4\" in que else 0\n",
    "        quest_low_id = que[\"questIDLow:4\"]\n",
    "        quest_name = que[\"properties:10\"][\"betterquesting:10\"][\"name:8\"]\n",
    "        quest_desc = que[\"properties:10\"][\"betterquesting:10\"][\"desc:8\"]\n",
    "        icon_name = \"quests_icons/QuestIcon/\" + str(quest_low_id) + \".png\"\n",
    "        \n",
    "        pre_quests = []\n",
    "        for i in que[\"preRequisites:9\"]:\n",
    "            pre_quests.append(que[\"preRequisites:9\"][i][\"questIDLow:4\"])\n",
    "\n",
    "        # if f\"quest{quest_id}name\" in quest_zh_map:\n",
    "        #     quest_name = quest_zh_map[f\"quest{quest_id}name\"]\n",
    "        # if f\"quest{quest_id}desc\" in quest_zh_map:\n",
    "        #     quest_desc = quest_zh_map[f\"quest{quest_id}desc\"]\n",
    "        \n",
    "        str_id = base64.urlsafe_b64encode(bytes.fromhex((quest_high_id.to_bytes(\n",
    "            length=8, signed=True) + quest_low_id.to_bytes(length=8, signed=True)).hex())).decode(\"utf-8\").replace(\"==\", \"\")\n",
    "        line = quest_name_df[quest_name_df[\"id\"] == str_id]\n",
    "        if len(line) != 0:\n",
    "            quest_name = line[\"zh_name\"].values[0]\n",
    "            quest_desc = line[\"zh_desc\"].values[0]\n",
    "\n",
    "        quest_name = re.sub(\"(§.)\", \"\", quest_name.strip())\n",
    "        quest_desc = re.sub(\"(§.)\", \"\", quest_desc.strip())\n",
    "\n",
    "        df.loc[len(df)] = [quest, quest_low_id, quest_name,\n",
    "                           quest_desc, icon_name, pre_quests]\n",
    "\n",
    "\n",
    "repeats = list(set(df[df[\"quest_name\"].duplicated()][\"quest_name\"]))\n",
    "for word in repeats:\n",
    "    counter = 1\n",
    "    for i in df[df[\"quest_name\"] == word].sort_values(\"quest_id\").index:\n",
    "        df.loc[i, \"quest_name\"] = df.loc[i, \"quest_name\"] + str(counter)\n",
    "        counter += 1"
   ]
  },
  {
   "cell_type": "code",
   "execution_count": 58,
   "metadata": {},
   "outputs": [],
   "source": [
    "for questline in os.listdir(\"DefaultQuests/QuestLines\"):\n",
    "    nodes = []\n",
    "    links = []\n",
    "    for quest in os.listdir(f\"DefaultQuests/QuestLines/{questline}\"):\n",
    "        multi = 1\n",
    "        if quest == \"QuestLine.json\":\n",
    "            continue\n",
    "        elif \"Tier5IV\" in quest:\n",
    "            multi = 0.5\n",
    "        que = json.load(\n",
    "            open(f\"DefaultQuests/QuestLines/{questline}/{quest}\", \"r\", encoding=\"utf-8\"))\n",
    "        line = df[df[\"quest_id\"] == que[\"questIDLow:4\"]]\n",
    "\n",
    "        desc = line[\"quest_desc\"].values[0]\n",
    "\n",
    "        temp_list = []\n",
    "        for i in range(0, len(desc), 50):\n",
    "            temp_list.append(desc[i : i + 50])\n",
    "\n",
    "        path = f\"image://version/272/{line[\"quest_icon\"].values[0]}\"\n",
    "\n",
    "        name = line[\"quest_name\"].values[0]\n",
    "\n",
    "        if \"questIDHigh:4\" in que:\n",
    "            high_id = que[\"questIDHigh:4\"]\n",
    "        else:\n",
    "            high_id = 0\n",
    "        low_id = que[\"questIDLow:4\"]\n",
    "\n",
    "        quest_id_str = base64.urlsafe_b64encode(bytes.fromhex((high_id.to_bytes(length=8, signed=True) + low_id.to_bytes(length=8, signed=True)).hex())).decode(\"utf-8\")\n",
    "\n",
    "        new_node = {\"name\": name,\n",
    "                    \"symbolSize\": int(que[\"sizeX:3\"]) * 1.3 * multi,\n",
    "                        \"symbol\": path,\n",
    "                        \"x\": (que[\"x:3\"] + int(que[\"sizeX:3\"]) / 2),\n",
    "                        \"y\": (que[\"y:3\"] + int(que[\"sizeX:3\"]) / 2),\n",
    "                        \"data\": desc,\n",
    "                        \"quest_id\": quest_id_str,\n",
    "                        }\n",
    "\n",
    "        nodes.append(new_node)\n",
    "        pre_quest_names = []\n",
    "        pre_quests = line[\"pre_quests\"].values[0]\n",
    "        for quest_id in pre_quests:\n",
    "            pre_que = df[df[\"quest_id\"] == quest_id]\n",
    "            pre_name = pre_que[\"quest_name\"].values[0]\n",
    "            pre_quest_names.append(pre_name)\n",
    "            links.append({\"source\": pre_name,\n",
    "                          \"target\": name})\n",
    "            \n",
    "        new_node[\"tooltip\"] = \"<strong>\" + name + \\\n",
    "            \"</strong></br>前置任务需求:</br>\" + \"</br>\".join(pre_quest_names)\n",
    "\n",
    "    g = (\n",
    "        Graph(init_opts=opts.InitOpts(width=\"100%\",\n",
    "              height=\"900%\", bg_color=\"#f5f0d3\", chart_id=\"this_chart\"))\n",
    "        .add(\"\", nodes, links, is_draggable=False, edge_symbol=['circle', 'arrow'], repulsion=0, label_opts=opts.LabelOpts(position=\"up\", is_show=False), gravity=0, layout=\"none\", edge_symbol_size=10)\n",
    "        .render(f\"html/{questline.split(\"-\")[0]}.html\")\n",
    "        # .dump_options_with_quotes()\n",
    "    )\n",
    "\n",
    "for html in os.listdir(\"html\"):\n",
    "    if not \"html\" in html:\n",
    "        continue\n",
    "    with open(f\"html/{html}\", encoding=\"utf-8\") as page:\n",
    "        a = bs(page)\n",
    "    os.remove(f\"html/{html}\")\n",
    "    a = a.find_all(\"script\")[1]\n",
    "    with open(f\"js/{html.replace(\".html\", \".js\")}\", \"w\", encoding=\"utf-8\") as js:\n",
    "        js.write(a.text)"
   ]
  },
  {
   "cell_type": "code",
   "execution_count": null,
   "metadata": {},
   "outputs": [],
   "source": []
  },
  {
   "cell_type": "code",
   "execution_count": 330,
   "metadata": {},
   "outputs": [],
   "source": []
  },
  {
   "cell_type": "code",
   "execution_count": null,
   "metadata": {},
   "outputs": [],
   "source": []
  },
  {
   "cell_type": "code",
   "execution_count": null,
   "metadata": {},
   "outputs": [],
   "source": [
    "with open(\"js/test.json\", \"w\", encoding=\"utf-8\") as f:\n",
    "    f.write(g)"
   ]
  },
  {
   "cell_type": "code",
   "execution_count": 61,
   "metadata": {},
   "outputs": [],
   "source": [
    "quest_line_order = []\n",
    "for line in open(\"DefaultQuests/QuestLinesOrder.txt\").readlines():\n",
    "    quest_line_order.append(line.split(\": \")[1].strip())"
   ]
  },
  {
   "cell_type": "code",
   "execution_count": 6,
   "metadata": {},
   "outputs": [
    {
     "data": {
      "text/plain": [
       "6626"
      ]
     },
     "execution_count": 6,
     "metadata": {},
     "output_type": "execute_result"
    }
   ],
   "source": [
    "counter = 0\n",
    "with open(\"lang/en_US.lang\", \"r\", encoding=\"utf-8\") as f:\n",
    "    for line in f.readlines():\n",
    "        if \"=\" in line:\n",
    "            counter += 1\n",
    "counter"
   ]
  },
  {
   "cell_type": "code",
   "execution_count": 7,
   "metadata": {},
   "outputs": [
    {
     "data": {
      "text/plain": [
       "6684"
      ]
     },
     "execution_count": 7,
     "metadata": {},
     "output_type": "execute_result"
    }
   ],
   "source": [
    "counter = 0\n",
    "with open(\"lang/zh_CN.lang\", \"r\", encoding=\"utf-8\") as f:\n",
    "    for line in f.readlines():\n",
    "        if \"=\" in line:\n",
    "            counter += 1\n",
    "counter"
   ]
  },
  {
   "cell_type": "code",
   "execution_count": 90,
   "metadata": {},
   "outputs": [
    {
     "data": {
      "text/plain": [
       "59183147428921293450463928407402013383"
      ]
     },
     "execution_count": 90,
     "metadata": {},
     "output_type": "execute_result"
    }
   ],
   "source": [
    "int(base64.b64decode(\"LIZCdBLfQquQpULGmFDixw==\".encode(\"ascii\")).hex(), 16)"
   ]
  },
  {
   "cell_type": "code",
   "execution_count": 79,
   "metadata": {},
   "outputs": [
    {
     "data": {
      "text/plain": [
       "'AAAAAAAAAAAAAAAAAAABBA=='"
      ]
     },
     "execution_count": 79,
     "metadata": {},
     "output_type": "execute_result"
    }
   ],
   "source": [
    "base64.b64encode(bytes.fromhex(\"0\" * (32-3) + hex(260)[2:])).decode(\"utf-8\")"
   ]
  },
  {
   "cell_type": "code",
   "execution_count": 314,
   "metadata": {},
   "outputs": [
    {
     "data": {
      "text/plain": [
       "'LIZCdBLfQquQpULGmFDixw=='"
      ]
     },
     "execution_count": 314,
     "metadata": {},
     "output_type": "execute_result"
    }
   ],
   "source": [
    "base64.b64encode(bytes.fromhex((que[\"questIDHigh:4\"].to_bytes(length=8, signed=True) +\n",
    "                                que[\"questIDLow:4\"].to_bytes(length=8, signed=True)).hex())).decode(\"utf-8\")"
   ]
  },
  {
   "cell_type": "code",
   "execution_count": 238,
   "metadata": {},
   "outputs": [
    {
     "data": {
      "text/plain": [
       "'LIZCdBLfQquQpULGmFDixw=='"
      ]
     },
     "execution_count": 238,
     "metadata": {},
     "output_type": "execute_result"
    }
   ],
   "source": [
    "\"LIZCdBLfQquQpULGmFDixw==\""
   ]
  },
  {
   "cell_type": "code",
   "execution_count": 151,
   "metadata": {},
   "outputs": [
    {
     "data": {
      "text/plain": [
       "'0x9850e2c7'"
      ]
     },
     "execution_count": 151,
     "metadata": {},
     "output_type": "execute_result"
    }
   ],
   "source": []
  },
  {
   "cell_type": "code",
   "execution_count": 341,
   "metadata": {},
   "outputs": [
    {
     "data": {
      "text/plain": [
       "'G5g_5_24RS6sqhmjFEbf8A'"
      ]
     },
     "execution_count": 341,
     "metadata": {},
     "output_type": "execute_result"
    }
   ],
   "source": [
    "temp_str = \"4096kEssentiaSto-G5g_5_24RS6sqhmjFEbf8A==.json\".split(\"-\", 1)[\n",
    "    1].replace(\".json\", \"\")\n",
    "re.sub(\"[^a-zA-Z0-9/-/_]\", \"\", temp_str)"
   ]
  },
  {
   "cell_type": "code",
   "execution_count": null,
   "metadata": {},
   "outputs": [],
   "source": []
  }
 ],
 "metadata": {
  "kernelspec": {
   "display_name": "Python 3",
   "language": "python",
   "name": "python3"
  },
  "language_info": {
   "codemirror_mode": {
    "name": "ipython",
    "version": 3
   },
   "file_extension": ".py",
   "mimetype": "text/x-python",
   "name": "python",
   "nbconvert_exporter": "python",
   "pygments_lexer": "ipython3",
   "version": "3.12.6"
  }
 },
 "nbformat": 4,
 "nbformat_minor": 2
}
