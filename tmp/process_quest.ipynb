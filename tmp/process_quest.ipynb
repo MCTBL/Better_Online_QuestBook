{
 "cells": [
  {
   "cell_type": "code",
   "execution_count": 1,
   "metadata": {},
   "outputs": [],
   "source": [
    "import pandas as pd\n",
    "import os\n",
    "import json\n",
    "from pyecharts.charts import Graph\n",
    "from pyecharts import options as opts\n",
    "from pyecharts.globals import ThemeType\n",
    "import re\n",
    "import difflib\n",
    "from pyecharts.commons.utils import JsCode\n",
    "from bs4 import BeautifulSoup as bs\n",
    "import base64\n",
    "from ctypes import c_uint\n",
    "import binascii"
   ]
  },
  {
   "cell_type": "code",
   "execution_count": 2,
   "metadata": {},
   "outputs": [],
   "source": [
    "quest_map = {}\n",
    "quest_line_map = {}\n",
    "quest_id_set = set()\n",
    "line_id_set = set()\n",
    "quest_zh_map = {}\n",
    "quest_zh_line_map = {}\n",
    "# with open(\"lang/en_US.lang\", \"r\", encoding=\"utf-8\") as f:\n",
    "#     for line in f.readlines():\n",
    "#         if \"gtnh.quest\" in line and \"=\" in line:\n",
    "#             one_line = line.split(\"=\")\n",
    "#             quest_id = one_line[0].split(\".\")[1]\n",
    "#             if \"name\" in one_line[0]:\n",
    "#                 quest_map[quest_id + \"name\"] = one_line[1]\n",
    "#             elif \"desc\" in one_line[0]:\n",
    "#                 quest_map[quest_id + \"desc\"] = one_line[1]\n",
    "#             quest_id_set.add(quest_id)\n",
    "#         elif \"gtnh.line\" in line and \"=\" in line:\n",
    "#             one_line = line.split(\"=\")\n",
    "#             quest_line_id = one_line[0].split(\".\")[1]\n",
    "#             if \"name\" in one_line[0]:\n",
    "#                 quest_line_map[quest_line_id + \"name\"] = one_line[1]\n",
    "#             elif \"desc\" in one_line[0]:\n",
    "#                 quest_line_map[quest_line_id + \"desc\"] = one_line[1]\n",
    "#             line_id_set.add(quest_line_id)\n",
    "\n",
    "with open(\"lang/zh_CN.lang\", \"r\", encoding=\"utf-8\") as f:\n",
    "    for line in f.readlines():\n",
    "        if \"betterquesting.questline\" in line and \"=\" in line:\n",
    "            one_line = line.split(\"=\")\n",
    "            quest_line_id = one_line[0].split(\".\")[-2]\n",
    "            if \"name\" in one_line[0]:\n",
    "                quest_zh_line_map[quest_line_id + \"name\"] = one_line[1]\n",
    "            elif \"desc\" in one_line[0]:\n",
    "                quest_zh_line_map[quest_line_id + \"desc\"] = one_line[1]\n",
    "            line_id_set.add(quest_line_id)\n",
    "        elif \"betterquesting.quest\" in line and \"=\" in line:\n",
    "            one_line = line.split(\"=\", -1)\n",
    "            quest_id = one_line[0].split(\".\")[-2]\n",
    "            if \"name\" in one_line[0]:\n",
    "                quest_zh_map[quest_id + \"name\"] = one_line[1]\n",
    "            elif \"desc\" in one_line[0]:\n",
    "                quest_zh_map[quest_id + \"desc\"] = one_line[1]\n",
    "            quest_id_set.add(quest_id)\n",
    "\n",
    "quest_name_df = pd.DataFrame(columns=[\"id\", \"name\", \"desc\", \"zh_name\", \"zh_desc\"])\n",
    "for i in quest_id_set:\n",
    "    name = quest_map[i + \"name\"].strip() if (i + \"name\") in quest_map else \"\"\n",
    "    desc = quest_map[i + \"desc\"].strip() if (i + \"desc\") in quest_map else \"\"\n",
    "    zh_name = quest_zh_map[i + \"name\"].strip() if (i +\n",
    "                                                   \"name\") in quest_zh_map else \"\"\n",
    "    zh_desc = quest_zh_map[i + \"desc\"].strip()if (i +\n",
    "                                                  \"desc\") in quest_zh_map else \"\"\n",
    "    quest_name_df.loc[len(quest_name_df)] = [i.replace(\n",
    "        \"quest\", \"\"), name, desc, zh_name, zh_desc]\n",
    "\n",
    "quest_line_name = pd.DataFrame(\n",
    "    columns=[\"id\", \"name\", \"desc\", \"zh_name\", \"zh_desc\"])\n",
    "for i in line_id_set:\n",
    "    name = quest_line_map[i + \"name\"].strip() if (i +\n",
    "                                                  \"name\") in quest_line_map else \"\"\n",
    "    desc = quest_line_map[i + \"desc\"].strip() if (i +\n",
    "                                                  \"desc\") in quest_line_map else \"\"\n",
    "    zh_name = quest_zh_line_map[i +\n",
    "                                \"name\"].strip() if (i + \"name\") in quest_zh_line_map else \"\"\n",
    "    zh_desc = quest_zh_line_map[i +\n",
    "                                \"desc\"].strip()if (i + \"desc\") in quest_zh_line_map else \"\"\n",
    "    quest_line_name.loc[len(quest_line_name)] = [i.replace(\n",
    "        \"line\", \"\"), name, desc, zh_name, zh_desc]"
   ]
  },
  {
   "cell_type": "code",
   "execution_count": 4,
   "metadata": {},
   "outputs": [
    {
     "data": {
      "text/html": [
       "<div>\n",
       "<style scoped>\n",
       "    .dataframe tbody tr th:only-of-type {\n",
       "        vertical-align: middle;\n",
       "    }\n",
       "\n",
       "    .dataframe tbody tr th {\n",
       "        vertical-align: top;\n",
       "    }\n",
       "\n",
       "    .dataframe thead th {\n",
       "        text-align: right;\n",
       "    }\n",
       "</style>\n",
       "<table border=\"1\" class=\"dataframe\">\n",
       "  <thead>\n",
       "    <tr style=\"text-align: right;\">\n",
       "      <th></th>\n",
       "      <th>id</th>\n",
       "      <th>name</th>\n",
       "      <th>desc</th>\n",
       "      <th>zh_name</th>\n",
       "      <th>zh_desc</th>\n",
       "    </tr>\n",
       "  </thead>\n",
       "  <tbody>\n",
       "    <tr>\n",
       "      <th>0</th>\n",
       "      <td>AAAAAAAAAAAAAAAAAAAB6g</td>\n",
       "      <td></td>\n",
       "      <td></td>\n",
       "      <td>极端危险的核燃料:\"核心\"</td>\n",
       "      <td>为那些真正疯狂的核工业科学家准备的.或是那些懂得上网的人(不能保证,请相信我!).如果你需要...</td>\n",
       "    </tr>\n",
       "    <tr>\n",
       "      <th>1</th>\n",
       "      <td>AAAAAAAAAAAAAAAAAAAF6A</td>\n",
       "      <td></td>\n",
       "      <td></td>\n",
       "      <td>将雄峰放入罐中摇匀</td>\n",
       "      <td>如果你培育的蜜蜂可以给你一些正面buff的话,那与其把多余的雄峰都丢了,还不如把它们放在蜜蜂...</td>\n",
       "    </tr>\n",
       "    <tr>\n",
       "      <th>2</th>\n",
       "      <td>AAAAAAAAAAAAAAAAAAAEVg</td>\n",
       "      <td></td>\n",
       "      <td></td>\n",
       "      <td>净化你的扭曲</td>\n",
       "      <td>你有没有一个梦想,祛除扭曲的同时不会产生副作用？ 净化护身符会让你的梦想成真.它能随时间一点...</td>\n",
       "    </tr>\n",
       "    <tr>\n",
       "      <th>3</th>\n",
       "      <td>AAAAAAAAAAAAAAAAAAAGNA</td>\n",
       "      <td></td>\n",
       "      <td></td>\n",
       "      <td>梦魇</td>\n",
       "      <td>需要更多硬币？ 杀死几个梦魇以获得硬币.没有梦魇的世界将更加美好.</td>\n",
       "    </tr>\n",
       "    <tr>\n",
       "      <th>4</th>\n",
       "      <td>AAAAAAAAAAAAAAAAAAAMhA</td>\n",
       "      <td></td>\n",
       "      <td></td>\n",
       "      <td>聚变材料--终章</td>\n",
       "      <td>只有几种必需的聚变材料,目前你已经全部完成了.还有许多其他聚变配方,其中的不少已经在任务中列...</td>\n",
       "    </tr>\n",
       "    <tr>\n",
       "      <th>...</th>\n",
       "      <td>...</td>\n",
       "      <td>...</td>\n",
       "      <td>...</td>\n",
       "      <td>...</td>\n",
       "      <td>...</td>\n",
       "    </tr>\n",
       "    <tr>\n",
       "      <th>3532</th>\n",
       "      <td>AAAAAAAAAAAAAAAAAAAHgw</td>\n",
       "      <td></td>\n",
       "      <td></td>\n",
       "      <td>电流不够?</td>\n",
       "      <td>4A或者更多怎么样?高电流变压器可以将4A电流降压变为16A电流.非常适合建立大型电网集中供...</td>\n",
       "    </tr>\n",
       "    <tr>\n",
       "      <th>3533</th>\n",
       "      <td>AAAAAAAAAAAAAAAAAAAHoQ</td>\n",
       "      <td></td>\n",
       "      <td></td>\n",
       "      <td>寻花</td>\n",
       "      <td>想要开始植物学这个mod,你需要找一些花.然后用你的泥铲把泥土变成普通花土.然后将你找到的花...</td>\n",
       "    </tr>\n",
       "    <tr>\n",
       "      <th>3534</th>\n",
       "      <td>AAAAAAAAAAAAAAAAAAAFzw</td>\n",
       "      <td></td>\n",
       "      <td></td>\n",
       "      <td>冷却你的棉花糖</td>\n",
       "      <td>下一步就是冷却热棉花糖,使用HV的真空冷冻机让它冷静一下.%n%n你会获得虚弱II和反胃II效果.</td>\n",
       "    </tr>\n",
       "    <tr>\n",
       "      <th>3535</th>\n",
       "      <td>AAAAAAAAAAAAAAAAAAAAHw</td>\n",
       "      <td></td>\n",
       "      <td></td>\n",
       "      <td>§2§l锡</td>\n",
       "      <td>锡锭可以藉由冶炼锡矿石、锡石矿石或锡石矿砂获得.锡矿石和锡石矿石只生成于高海拔地区,但锡石矿...</td>\n",
       "    </tr>\n",
       "    <tr>\n",
       "      <th>3536</th>\n",
       "      <td>AAAAAAAAAAAAAAAAAAAGnQ</td>\n",
       "      <td></td>\n",
       "      <td></td>\n",
       "      <td>§b§l2-硝基氯苯</td>\n",
       "      <td>下一步是在化学反应釜中将硝酸混酸与氯苯搅拌,得到2-硝基氯苯.</td>\n",
       "    </tr>\n",
       "  </tbody>\n",
       "</table>\n",
       "<p>3537 rows × 5 columns</p>\n",
       "</div>"
      ],
      "text/plain": [
       "                          id name desc        zh_name  \\\n",
       "0     AAAAAAAAAAAAAAAAAAAB6g            极端危险的核燃料:\"核心\"   \n",
       "1     AAAAAAAAAAAAAAAAAAAF6A                将雄峰放入罐中摇匀   \n",
       "2     AAAAAAAAAAAAAAAAAAAEVg                   净化你的扭曲   \n",
       "3     AAAAAAAAAAAAAAAAAAAGNA                       梦魇   \n",
       "4     AAAAAAAAAAAAAAAAAAAMhA                 聚变材料--终章   \n",
       "...                      ...  ...  ...            ...   \n",
       "3532  AAAAAAAAAAAAAAAAAAAHgw                    电流不够?   \n",
       "3533  AAAAAAAAAAAAAAAAAAAHoQ                       寻花   \n",
       "3534  AAAAAAAAAAAAAAAAAAAFzw                  冷却你的棉花糖   \n",
       "3535  AAAAAAAAAAAAAAAAAAAAHw                    §2§l锡   \n",
       "3536  AAAAAAAAAAAAAAAAAAAGnQ               §b§l2-硝基氯苯   \n",
       "\n",
       "                                                zh_desc  \n",
       "0     为那些真正疯狂的核工业科学家准备的.或是那些懂得上网的人(不能保证,请相信我!).如果你需要...  \n",
       "1     如果你培育的蜜蜂可以给你一些正面buff的话,那与其把多余的雄峰都丢了,还不如把它们放在蜜蜂...  \n",
       "2     你有没有一个梦想,祛除扭曲的同时不会产生副作用？ 净化护身符会让你的梦想成真.它能随时间一点...  \n",
       "3                     需要更多硬币？ 杀死几个梦魇以获得硬币.没有梦魇的世界将更加美好.  \n",
       "4     只有几种必需的聚变材料,目前你已经全部完成了.还有许多其他聚变配方,其中的不少已经在任务中列...  \n",
       "...                                                 ...  \n",
       "3532  4A或者更多怎么样?高电流变压器可以将4A电流降压变为16A电流.非常适合建立大型电网集中供...  \n",
       "3533  想要开始植物学这个mod,你需要找一些花.然后用你的泥铲把泥土变成普通花土.然后将你找到的花...  \n",
       "3534  下一步就是冷却热棉花糖,使用HV的真空冷冻机让它冷静一下.%n%n你会获得虚弱II和反胃II效果.  \n",
       "3535  锡锭可以藉由冶炼锡矿石、锡石矿石或锡石矿砂获得.锡矿石和锡石矿石只生成于高海拔地区,但锡石矿...  \n",
       "3536                    下一步是在化学反应釜中将硝酸混酸与氯苯搅拌,得到2-硝基氯苯.  \n",
       "\n",
       "[3537 rows x 5 columns]"
      ]
     },
     "execution_count": 4,
     "metadata": {},
     "output_type": "execute_result"
    }
   ],
   "source": [
    "quest_name_df"
   ]
  },
  {
   "cell_type": "code",
   "execution_count": 161,
   "metadata": {},
   "outputs": [],
   "source": [
    "df = pd.DataFrame(columns=[\"quest_file_name\", \"quest_id\",\n",
    "                  \"quest_name\", \"quest_desc\", \"quest_icon\", \"pre_quests\", \"quest_name_with_format\"])\n",
    "for quest_line in os.listdir(\"DefaultQuests/Quests/\"):\n",
    "    for quest in os.listdir(f\"DefaultQuests/Quests/{quest_line}/\"):\n",
    "        que = json.load(\n",
    "            open(f\"DefaultQuests/Quests/{quest_line}/{quest}\", \"r\", encoding=\"utf-8\"))\n",
    "        \n",
    "        quest_high_id = que[\"questIDHigh:4\"] if \"questIDHigh:4\" in que else 0\n",
    "        quest_low_id = que[\"questIDLow:4\"]\n",
    "        quest_name = que[\"properties:10\"][\"betterquesting:10\"][\"name:8\"]\n",
    "        quest_desc = que[\"properties:10\"][\"betterquesting:10\"][\"desc:8\"]\n",
    "        icon_name = \"quests_icons/QuestIcon/\" + str(quest_low_id) + \".png\"\n",
    "        \n",
    "        pre_quests = []\n",
    "        for i in que[\"preRequisites:9\"]:\n",
    "            pre_quests.append(que[\"preRequisites:9\"][i][\"questIDLow:4\"])\n",
    "\n",
    "        # if f\"quest{quest_id}name\" in quest_zh_map:\n",
    "        #     quest_name = quest_zh_map[f\"quest{quest_id}name\"]\n",
    "        # if f\"quest{quest_id}desc\" in quest_zh_map:\n",
    "        #     quest_desc = quest_zh_map[f\"quest{quest_id}desc\"]\n",
    "        \n",
    "        str_id = base64.urlsafe_b64encode(bytes.fromhex((quest_high_id.to_bytes(length=8, signed=True, byteorder=\"big\") +\n",
    "                                          quest_low_id.to_bytes(length=8, signed=True, byteorder=\"big\")).hex())).decode(\"utf-8\").replace(\"==\", \"\")\n",
    "        line = quest_name_df[quest_name_df[\"id\"] == str_id]\n",
    "        if len(line) != 0:\n",
    "            quest_name = line[\"zh_name\"].values[0]\n",
    "            quest_desc = line[\"zh_desc\"].values[0]\n",
    "\n",
    "        # quest_name = re.sub(\"(§.)\", \"\", quest_name.strip())\n",
    "        # quest_desc = re.sub(\"(§.)\", \"\", quest_desc.strip())\n",
    "\n",
    "        quest_desc = quest_desc.replace(\"%n\", \"</br>\")\n",
    "\n",
    "        df.loc[len(df)] = [quest, quest_low_id, re.sub(\"(§.)\", \"\", quest_name.strip()),\n",
    "                           quest_desc, icon_name, pre_quests, quest_name]\n",
    "\n",
    "\n",
    "repeats = list(set(df[df[\"quest_name\"].duplicated()][\"quest_name\"]))\n",
    "for word in repeats:\n",
    "    counter = 1\n",
    "    for i in df[df[\"quest_name\"] == word].sort_values(\"quest_id\").index:\n",
    "        df.loc[i, \"quest_name\"] = df.loc[i, \"quest_name\"] + str(counter)\n",
    "        counter += 1"
   ]
  },
  {
   "cell_type": "code",
   "execution_count": 167,
   "metadata": {},
   "outputs": [],
   "source": [
    "for questline in os.listdir(\"DefaultQuests/QuestLines\"):\n",
    "    nodes = []\n",
    "    links = []\n",
    "    max_size = 0\n",
    "    for quest in os.listdir(f\"DefaultQuests/QuestLines/{questline}\"):\n",
    "        if quest == \"QuestLine.json\":\n",
    "            continue\n",
    "\n",
    "        que = json.load(\n",
    "            open(f\"DefaultQuests/QuestLines/{questline}/{quest}\", \"r\", encoding=\"utf-8\"))\n",
    "        line = df[df[\"quest_id\"] == que[\"questIDLow:4\"]]\n",
    "\n",
    "        desc = line[\"quest_desc\"].values[0]\n",
    "\n",
    "        temp_list = []\n",
    "        for i in range(0, len(desc), 50):\n",
    "            temp_list.append(desc[i : i + 50])\n",
    "\n",
    "        path = f\"image://version/272/{line['quest_icon'].values[0]}\"\n",
    "\n",
    "        name = line[\"quest_name\"].values[0]\n",
    "\n",
    "        if \"questIDHigh:4\" in que:\n",
    "            high_id = que[\"questIDHigh:4\"]\n",
    "        else:\n",
    "            high_id = 0\n",
    "        low_id = que[\"questIDLow:4\"]\n",
    "\n",
    "        quest_id_str = base64.urlsafe_b64encode(bytes.fromhex((high_id.to_bytes(\n",
    "            length=8, signed=True, byteorder=\"big\") + low_id.to_bytes(length=8, signed=True, byteorder=\"big\")).hex())).decode(\"utf-8\")\n",
    "\n",
    "        title = line[\"quest_name_with_format\"].values[0]\n",
    "\n",
    "        new_node = {\"name\": name,\n",
    "                    \"symbolSize\": int(que[\"sizeX:3\"]),\n",
    "                    \"symbol\": path,\n",
    "                    \"x\": (que[\"x:3\"] + int(que[\"sizeX:3\"]) / 2),\n",
    "                    \"y\": (que[\"y:3\"] + int(que[\"sizeX:3\"]) / 2),\n",
    "                    \"data\": desc,\n",
    "                    \"quest_id\": quest_id_str,\n",
    "                    \"title\": title,\n",
    "                    }\n",
    "        \n",
    "        max_size = max(max_size, int(que[\"sizeX:3\"]))\n",
    "\n",
    "        nodes.append(new_node)\n",
    "        pre_quest_names = []\n",
    "        pre_quests = line[\"pre_quests\"].values[0]\n",
    "        for quest_id in pre_quests:\n",
    "            pre_que = df[df[\"quest_id\"] == quest_id]\n",
    "            pre_name = pre_que[\"quest_name\"].values[0]\n",
    "            pre_quest_names.append(pre_name)\n",
    "            links.append({\"source\": pre_name,\n",
    "                          \"target\": name})\n",
    "            \n",
    "        new_node[\"tooltip\"] = \"<strong>\" + name + \\\n",
    "            \"</strong></br>前置任务需求:</br>\" + \"</br>\".join(pre_quest_names)\n",
    "\n",
    "    multi = 75 / max_size\n",
    "    for node in nodes:\n",
    "        node[\"symbolSize\"] = int(multi * node[\"symbolSize\"])\n",
    "\n",
    "\n",
    "    g = (\n",
    "        Graph(init_opts=opts.InitOpts(width=\"100%\",\n",
    "              height=\"900%\", bg_color=\"#f5f0d3\", chart_id=\"this_chart\"))\n",
    "        .add(\"\", nodes, links, is_draggable=False, edge_symbol=['circle', 'arrow'], repulsion=0, label_opts=opts.LabelOpts(position=\"up\", is_show=False), gravity=0, layout=\"none\", edge_symbol_size=10)\n",
    "        .render(f\"html/{questline.split('-')[0]}.html\")\n",
    "        # .dump_options_with_quotes()\n",
    "    )\n",
    "\n",
    "for html in os.listdir(\"html\"):\n",
    "    if not \"html\" in html:\n",
    "        continue\n",
    "    with open(f\"html/{html}\", encoding=\"utf-8\") as page:\n",
    "        a = bs(page)\n",
    "    os.remove(f\"html/{html}\")\n",
    "    a = a.find_all(\"script\")[1]\n",
    "    with open(f\"js/{html.replace('.html', '.js')}\", \"w\", encoding=\"utf-8\") as js:\n",
    "        js.write(a.text)"
   ]
  },
  {
   "cell_type": "code",
   "execution_count": 169,
   "metadata": {},
   "outputs": [
    {
     "data": {
      "text/html": [
       "<div>\n",
       "<style scoped>\n",
       "    .dataframe tbody tr th:only-of-type {\n",
       "        vertical-align: middle;\n",
       "    }\n",
       "\n",
       "    .dataframe tbody tr th {\n",
       "        vertical-align: top;\n",
       "    }\n",
       "\n",
       "    .dataframe thead th {\n",
       "        text-align: right;\n",
       "    }\n",
       "</style>\n",
       "<table border=\"1\" class=\"dataframe\">\n",
       "  <thead>\n",
       "    <tr style=\"text-align: right;\">\n",
       "      <th></th>\n",
       "      <th>quest_file_name</th>\n",
       "      <th>quest_id</th>\n",
       "      <th>quest_name</th>\n",
       "      <th>quest_desc</th>\n",
       "      <th>quest_icon</th>\n",
       "      <th>pre_quests</th>\n",
       "      <th>quest_name_with_format</th>\n",
       "    </tr>\n",
       "  </thead>\n",
       "  <tbody>\n",
       "    <tr>\n",
       "      <th>840</th>\n",
       "      <td>EtherStrike-AAAAAAAAAAAAAAAAAAALaQ==.json</td>\n",
       "      <td>2921</td>\n",
       "      <td>乙醚冲击(Ether Strike)!</td>\n",
       "      <td>硅岩非常稳定,以至于大部分酸无法与其发生反应,所以你需要更强的酸才能将其溶解.&lt;/br&gt;&lt;/...</td>\n",
       "      <td>quests_icons/QuestIcon/2921.png</td>\n",
       "      <td>[1493]</td>\n",
       "      <td>§c§l乙醚冲击(Ether Strike)!</td>\n",
       "    </tr>\n",
       "  </tbody>\n",
       "</table>\n",
       "</div>"
      ],
      "text/plain": [
       "                               quest_file_name  quest_id           quest_name  \\\n",
       "840  EtherStrike-AAAAAAAAAAAAAAAAAAALaQ==.json      2921  乙醚冲击(Ether Strike)!   \n",
       "\n",
       "                                            quest_desc  \\\n",
       "840  硅岩非常稳定,以至于大部分酸无法与其发生反应,所以你需要更强的酸才能将其溶解.</br></...   \n",
       "\n",
       "                          quest_icon pre_quests   quest_name_with_format  \n",
       "840  quests_icons/QuestIcon/2921.png     [1493]  §c§l乙醚冲击(Ether Strike)!  "
      ]
     },
     "execution_count": 169,
     "metadata": {},
     "output_type": "execute_result"
    }
   ],
   "source": [
    "df[df[\"quest_name\"].str.contains(\"乙醚\")]"
   ]
  },
  {
   "cell_type": "code",
   "execution_count": null,
   "metadata": {},
   "outputs": [],
   "source": []
  },
  {
   "cell_type": "code",
   "execution_count": 330,
   "metadata": {},
   "outputs": [],
   "source": []
  },
  {
   "cell_type": "code",
   "execution_count": null,
   "metadata": {},
   "outputs": [],
   "source": []
  },
  {
   "cell_type": "code",
   "execution_count": null,
   "metadata": {},
   "outputs": [],
   "source": [
    "with open(\"js/test.json\", \"w\", encoding=\"utf-8\") as f:\n",
    "    f.write(g)"
   ]
  },
  {
   "cell_type": "code",
   "execution_count": 61,
   "metadata": {},
   "outputs": [],
   "source": [
    "quest_line_order = []\n",
    "for line in open(\"DefaultQuests/QuestLinesOrder.txt\").readlines():\n",
    "    quest_line_order.append(line.split(\": \")[1].strip())"
   ]
  },
  {
   "cell_type": "code",
   "execution_count": 6,
   "metadata": {},
   "outputs": [
    {
     "data": {
      "text/plain": [
       "6626"
      ]
     },
     "execution_count": 6,
     "metadata": {},
     "output_type": "execute_result"
    }
   ],
   "source": [
    "counter = 0\n",
    "with open(\"lang/en_US.lang\", \"r\", encoding=\"utf-8\") as f:\n",
    "    for line in f.readlines():\n",
    "        if \"=\" in line:\n",
    "            counter += 1\n",
    "counter"
   ]
  },
  {
   "cell_type": "code",
   "execution_count": 7,
   "metadata": {},
   "outputs": [
    {
     "data": {
      "text/plain": [
       "6684"
      ]
     },
     "execution_count": 7,
     "metadata": {},
     "output_type": "execute_result"
    }
   ],
   "source": [
    "counter = 0\n",
    "with open(\"lang/zh_CN.lang\", \"r\", encoding=\"utf-8\") as f:\n",
    "    for line in f.readlines():\n",
    "        if \"=\" in line:\n",
    "            counter += 1\n",
    "counter"
   ]
  },
  {
   "cell_type": "code",
   "execution_count": 90,
   "metadata": {},
   "outputs": [
    {
     "data": {
      "text/plain": [
       "59183147428921293450463928407402013383"
      ]
     },
     "execution_count": 90,
     "metadata": {},
     "output_type": "execute_result"
    }
   ],
   "source": [
    "int(base64.b64decode(\"LIZCdBLfQquQpULGmFDixw==\".encode(\"ascii\")).hex(), 16)"
   ]
  },
  {
   "cell_type": "code",
   "execution_count": 79,
   "metadata": {},
   "outputs": [
    {
     "data": {
      "text/plain": [
       "'AAAAAAAAAAAAAAAAAAABBA=='"
      ]
     },
     "execution_count": 79,
     "metadata": {},
     "output_type": "execute_result"
    }
   ],
   "source": [
    "base64.b64encode(bytes.fromhex(\"0\" * (32-3) + hex(260)[2:])).decode(\"utf-8\")"
   ]
  },
  {
   "cell_type": "code",
   "execution_count": 314,
   "metadata": {},
   "outputs": [
    {
     "data": {
      "text/plain": [
       "'LIZCdBLfQquQpULGmFDixw=='"
      ]
     },
     "execution_count": 314,
     "metadata": {},
     "output_type": "execute_result"
    }
   ],
   "source": [
    "base64.b64encode(bytes.fromhex((que[\"questIDHigh:4\"].to_bytes(length=8, signed=True) +\n",
    "                                que[\"questIDLow:4\"].to_bytes(length=8, signed=True)).hex())).decode(\"utf-8\")"
   ]
  },
  {
   "cell_type": "code",
   "execution_count": 238,
   "metadata": {},
   "outputs": [
    {
     "data": {
      "text/plain": [
       "'LIZCdBLfQquQpULGmFDixw=='"
      ]
     },
     "execution_count": 238,
     "metadata": {},
     "output_type": "execute_result"
    }
   ],
   "source": [
    "\"LIZCdBLfQquQpULGmFDixw==\""
   ]
  },
  {
   "cell_type": "code",
   "execution_count": 151,
   "metadata": {},
   "outputs": [
    {
     "data": {
      "text/plain": [
       "'0x9850e2c7'"
      ]
     },
     "execution_count": 151,
     "metadata": {},
     "output_type": "execute_result"
    }
   ],
   "source": []
  },
  {
   "cell_type": "code",
   "execution_count": 341,
   "metadata": {},
   "outputs": [
    {
     "data": {
      "text/plain": [
       "'G5g_5_24RS6sqhmjFEbf8A'"
      ]
     },
     "execution_count": 341,
     "metadata": {},
     "output_type": "execute_result"
    }
   ],
   "source": [
    "temp_str = \"4096kEssentiaSto-G5g_5_24RS6sqhmjFEbf8A==.json\".split(\"-\", 1)[\n",
    "    1].replace(\".json\", \"\")\n",
    "re.sub(\"[^a-zA-Z0-9/-/_]\", \"\", temp_str)"
   ]
  },
  {
   "cell_type": "code",
   "execution_count": 149,
   "metadata": {},
   "outputs": [],
   "source": [
    "temp_str = \"欢迎来到TecTech!这里有你毕业所需的真正的巅峰科技.但是,学习TecTech常常让人摸不着头脑,所以仔细听.%n%n首先你需要制造所需机器的多种机械方块:超能机械方块,电子计算机机械方块,高级计算机方块和计算机散热器.你需要大量这些机械方块才能继续前进.%n%n我们列举出来的只是举个例子,实际需要的只会更多、更多、更多.%n%n使用光缆将机器连接起来. 确保它们已被涂色,同时光缆连接到的方块也要被涂色.%n%n*投影仪将会显示完整机器的全息图像,左下角的聊天栏会显示可变方块的注释. 如果堆叠更多投影仪的话,你就可以看到较大版本的全息图(比如量子计算机).%n%n§4译者注:§lTecTech多方块机器的控制器GUI界面的闪电或是电源图标亮起时,不要破坏任何结构方块,否则会引发爆炸!运行过程中更不能破坏结构方块!§r\""
   ]
  },
  {
   "cell_type": "code",
   "execution_count": 150,
   "metadata": {},
   "outputs": [
    {
     "name": "stdout",
     "output_type": "stream",
     "text": [
      "欢迎来到TecTech!这里有你毕业所需的真正的巅峰科技.但是,学习TecTech常常让人摸不着头脑,所以仔细听.%n%n首先你需要制造所需机器的多种机械方块:超能机械方块,电子计算机机械方块,高级计算机方块和计算机散热器.你需要大量这些机械方块才能继续前进.%n%n我们列举出来的只是举个例子,实际需要的只会更多、更多、更多.%n%n使用光缆将机器连接起来. 确保它们已被涂色,同时光缆连接到的方块也要被涂色.%n%n*投影仪将会显示完整机器的全息图像,左下角的聊天栏会显示可变方块的注释. 如果堆叠更多投影仪的话,你就可以看到较大版本的全息图(比如量子计算机).%n%n\n",
      "译者注:TecTech多方块机器的控制器GUI界面的闪电或是电源图标亮起时,不要破坏任何结构方块,否则会引发爆炸!运行过程中更不能破坏结构方块!\n",
      "['§4', '§l']\n"
     ]
    }
   ],
   "source": [
    "temp_q = \"\"\n",
    "flag = False\n",
    "code = []\n",
    "for i in re.split(\"(§.)\", temp_str):\n",
    "    if len(i) == 0:\n",
    "        continue\n",
    "    if \"§\" in i:\n",
    "        flag = True\n",
    "        if \"r\" in i:\n",
    "            flag = False\n",
    "            print(temp_q)\n",
    "            print(code)\n",
    "            code = []\n",
    "        else:\n",
    "            code.append(i)\n",
    "    else:\n",
    "        if flag is False:\n",
    "            print(i)\n",
    "        else:\n",
    "            temp_q += i"
   ]
  },
  {
   "cell_type": "code",
   "execution_count": 151,
   "metadata": {},
   "outputs": [
    {
     "data": {
      "text/plain": [
       "['欢迎来到TecTech!这里有你毕业所需的真正的巅峰科技.但是,学习TecTech常常让人摸不着头脑,所以仔细听.%n%n首先你需要制造所需机器的多种机械方块:超能机械方块,电子计算机机械方块,高级计算机方块和计算机散热器.你需要大量这些机械方块才能继续前进.%n%n我们列举出来的只是举个例子,实际需要的只会更多、更多、更多.%n%n使用光缆将机器连接起来. 确保它们已被涂色,同时光缆连接到的方块也要被涂色.%n%n*投影仪将会显示完整机器的全息图像,左下角的聊天栏会显示可变方块的注释. 如果堆叠更多投影仪的话,你就可以看到较大版本的全息图(比如量子计算机).%n%n',\n",
       " '§4',\n",
       " '译者注:',\n",
       " '§l',\n",
       " 'TecTech多方块机器的控制器GUI界面的闪电或是电源图标亮起时,不要破坏任何结构方块,否则会引发爆炸!运行过程中更不能破坏结构方块!',\n",
       " '§r',\n",
       " '']"
      ]
     },
     "execution_count": 151,
     "metadata": {},
     "output_type": "execute_result"
    }
   ],
   "source": [
    "re.split(\"(§.)\", temp_str)"
   ]
  },
  {
   "cell_type": "code",
   "execution_count": 57,
   "metadata": {},
   "outputs": [
    {
     "ename": "IndexError",
     "evalue": "no such group",
     "output_type": "error",
     "traceback": [
      "\u001b[0;31m---------------------------------------------------------------------------\u001b[0m",
      "\u001b[0;31mIndexError\u001b[0m                                Traceback (most recent call last)",
      "Cell \u001b[0;32mIn[57], line 1\u001b[0m\n\u001b[0;32m----> 1\u001b[0m \u001b[43ma\u001b[49m\u001b[43m[\u001b[49m\u001b[38;5;241;43m3\u001b[39;49m\u001b[43m]\u001b[49m\n",
      "\u001b[0;31mIndexError\u001b[0m: no such group"
     ]
    }
   ],
   "source": [
    "def process(temp_str: str, type: list[str]):\n",
    "    ..."
   ]
  }
 ],
 "metadata": {
  "kernelspec": {
   "display_name": "Python 3",
   "language": "python",
   "name": "python3"
  },
  "language_info": {
   "codemirror_mode": {
    "name": "ipython",
    "version": 3
   },
   "file_extension": ".py",
   "mimetype": "text/x-python",
   "name": "python",
   "nbconvert_exporter": "python",
   "pygments_lexer": "ipython3",
   "version": "3.9.21"
  }
 },
 "nbformat": 4,
 "nbformat_minor": 2
}
